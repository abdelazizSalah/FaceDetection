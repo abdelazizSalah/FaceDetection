{
  "cells": [
    {
      "cell_type": "code",
      "execution_count": 1,
      "metadata": {
        "collapsed": false
      },
      "outputs": [],
      "source": [
        "%matplotlib inline"
      ]
    },
    {
      "cell_type": "markdown",
      "metadata": {},
      "source": [
        "\n",
        "# Face classification using Haar-like feature descriptor\n",
        "\n",
        "Haar-like feature descriptors were successfully used to implement the first\n",
        "real-time face detector [1]_. Inspired by this application, we propose an\n",
        "example illustrating the extraction, selection, and classification of Haar-like\n",
        "features to detect faces vs. non-faces.\n",
        "\n",
        "## Notes\n",
        "\n",
        "This example relies on `scikit-learn <https://scikit-learn.org/>`_ for feature\n",
        "selection and classification.\n",
        "\n",
        "## References\n",
        "\n",
        ".. [1] Viola, Paul, and Michael J. Jones. \"Robust real-time face\n",
        "       detection.\" International journal of computer vision 57.2\n",
        "       (2004): 137-154.\n",
        "       https://www.merl.com/publications/docs/TR2004-043.pdf\n",
        "       :DOI:`10.1109/CVPR.2001.990517`\n"
      ]
    },
    {
      "cell_type": "code",
      "execution_count": 3,
      "metadata": {
        "collapsed": false
      },
      "outputs": [],
      "source": [
        "import sys\n",
        "from time import time\n",
        "\n",
        "import numpy as np\n",
        "import matplotlib.pyplot as plt\n",
        "\n",
        "from dask import delayed\n",
        "\n",
        "# from sklearn.ensemble import RandomForestClassifier\n",
        "# from sklearn.model_selection import train_test_split\n",
        "# from sklearn.metrics import roc_auc_score\n",
        "\n",
        "from skimage.data import lfw_subset\n",
        "from skimage.transform import integral_image\n",
        "from skimage.feature import haar_like_feature\n",
        "from skimage.feature import haar_like_feature_coord\n",
        "from skimage.feature import draw_haar_like_feature"
      ]
    },
    {
      "cell_type": "markdown",
      "metadata": {},
      "source": [
        "The procedure to extract the Haar-like features from an image is relatively\n",
        "simple. Firstly, a region of interest (ROI) is defined. Secondly, the\n",
        "integral image within this ROI is computed. Finally, the integral image is\n",
        "used to extract the features.\n",
        "\n"
      ]
    },
    {
      "cell_type": "code",
      "execution_count": 4,
      "metadata": {
        "collapsed": false
      },
      "outputs": [],
      "source": [
        "@delayed\n",
        "def extract_feature_image(img, feature_type, feature_coord=None):\n",
        "    \"\"\"Extract the haar feature for the current image\"\"\"\n",
        "    ii = integral_image(img)\n",
        "    return haar_like_feature(ii, 0, 0, ii.shape[0], ii.shape[1],\n",
        "                             feature_type=feature_type,\n",
        "                             feature_coord=feature_coord)"
      ]
    },
    {
      "cell_type": "markdown",
      "metadata": {},
      "source": [
        "We use a subset of CBCL dataset which is composed of 100 face images and\n",
        "100 non-face images. Each image has been resized to a ROI of 19 by 19\n",
        "pixels. We select 75 images from each group to train a classifier and\n",
        "determine the most salient features. The remaining 25 images from each\n",
        "class are used to assess the performance of the classifier.\n",
        "\n"
      ]
    },
    {
      "cell_type": "code",
      "execution_count": 5,
      "metadata": {
        "collapsed": false
      },
      "outputs": [
        {
          "ename": "NameError",
          "evalue": "name 'train_test_split' is not defined",
          "output_type": "error",
          "traceback": [
            "\u001b[1;31m---------------------------------------------------------------------------\u001b[0m",
            "\u001b[1;31mNameError\u001b[0m                                 Traceback (most recent call last)",
            "\u001b[1;32mc:\\GitHub\\FaceDetectionRepo\\haar-feature\\plot_haar_extraction_selection_classification.ipynb Cell 7\u001b[0m in \u001b[0;36m<cell line: 16>\u001b[1;34m()\u001b[0m\n\u001b[0;32m     <a href='vscode-notebook-cell:/c%3A/GitHub/FaceDetectionRepo/haar-feature/plot_haar_extraction_selection_classification.ipynb#W6sZmlsZQ%3D%3D?line=12'>13</a>\u001b[0m \u001b[39m# Label images (100 faces and 100 non-faces)\u001b[39;00m\n\u001b[0;32m     <a href='vscode-notebook-cell:/c%3A/GitHub/FaceDetectionRepo/haar-feature/plot_haar_extraction_selection_classification.ipynb#W6sZmlsZQ%3D%3D?line=13'>14</a>\u001b[0m y \u001b[39m=\u001b[39m np\u001b[39m.\u001b[39marray([\u001b[39m1\u001b[39m] \u001b[39m*\u001b[39m \u001b[39m100\u001b[39m \u001b[39m+\u001b[39m [\u001b[39m0\u001b[39m] \u001b[39m*\u001b[39m \u001b[39m100\u001b[39m)\n\u001b[1;32m---> <a href='vscode-notebook-cell:/c%3A/GitHub/FaceDetectionRepo/haar-feature/plot_haar_extraction_selection_classification.ipynb#W6sZmlsZQ%3D%3D?line=15'>16</a>\u001b[0m X_train, X_test, y_train, y_test \u001b[39m=\u001b[39m train_test_split(X, y, train_size\u001b[39m=\u001b[39m\u001b[39m150\u001b[39m,\n\u001b[0;32m     <a href='vscode-notebook-cell:/c%3A/GitHub/FaceDetectionRepo/haar-feature/plot_haar_extraction_selection_classification.ipynb#W6sZmlsZQ%3D%3D?line=16'>17</a>\u001b[0m                                                     random_state\u001b[39m=\u001b[39m\u001b[39m0\u001b[39m,\n\u001b[0;32m     <a href='vscode-notebook-cell:/c%3A/GitHub/FaceDetectionRepo/haar-feature/plot_haar_extraction_selection_classification.ipynb#W6sZmlsZQ%3D%3D?line=17'>18</a>\u001b[0m                                                     stratify\u001b[39m=\u001b[39my)\n\u001b[0;32m     <a href='vscode-notebook-cell:/c%3A/GitHub/FaceDetectionRepo/haar-feature/plot_haar_extraction_selection_classification.ipynb#W6sZmlsZQ%3D%3D?line=19'>20</a>\u001b[0m \u001b[39m# Extract all possible features\u001b[39;00m\n\u001b[0;32m     <a href='vscode-notebook-cell:/c%3A/GitHub/FaceDetectionRepo/haar-feature/plot_haar_extraction_selection_classification.ipynb#W6sZmlsZQ%3D%3D?line=20'>21</a>\u001b[0m feature_coord, feature_type \u001b[39m=\u001b[39m \\\n\u001b[0;32m     <a href='vscode-notebook-cell:/c%3A/GitHub/FaceDetectionRepo/haar-feature/plot_haar_extraction_selection_classification.ipynb#W6sZmlsZQ%3D%3D?line=21'>22</a>\u001b[0m     haar_like_feature_coord(width\u001b[39m=\u001b[39mimages\u001b[39m.\u001b[39mshape[\u001b[39m2\u001b[39m], height\u001b[39m=\u001b[39mimages\u001b[39m.\u001b[39mshape[\u001b[39m1\u001b[39m],\n\u001b[0;32m     <a href='vscode-notebook-cell:/c%3A/GitHub/FaceDetectionRepo/haar-feature/plot_haar_extraction_selection_classification.ipynb#W6sZmlsZQ%3D%3D?line=22'>23</a>\u001b[0m                             feature_type\u001b[39m=\u001b[39mfeature_types)\n",
            "\u001b[1;31mNameError\u001b[0m: name 'train_test_split' is not defined"
          ]
        }
      ],
      "source": [
        "images = lfw_subset()\n",
        "# To speed up the example, extract the two types of features only\n",
        "feature_types = ['type-2-x', 'type-2-y']\n",
        "\n",
        "# Build a computation graph using Dask. This allows the use of multiple\n",
        "# CPU cores later during the actual computation\n",
        "X = delayed(extract_feature_image(img, feature_types) for img in images)\n",
        "# Compute the result\n",
        "t_start = time()\n",
        "X = np.array(X.compute(scheduler='single-threaded'))\n",
        "time_full_feature_comp = time() - t_start\n",
        "\n",
        "# Label images (100 faces and 100 non-faces)\n",
        "y = np.array([1] * 100 + [0] * 100)\n",
        "\n",
        "X_train, X_test, y_train, y_test = train_test_split(X, y, train_size=150,\n",
        "                                                    random_state=0,\n",
        "                                                    stratify=y)\n",
        "\n",
        "# Extract all possible features\n",
        "feature_coord, feature_type = \\\n",
        "    haar_like_feature_coord(width=images.shape[2], height=images.shape[1],\n",
        "                            feature_type=feature_types)"
      ]
    },
    {
      "cell_type": "markdown",
      "metadata": {},
      "source": [
        "A random forest classifier can be trained in order to select the most\n",
        "salient features, specifically for face classification. The idea is to\n",
        "determine which features are most often used by the ensemble of trees.\n",
        "By using only the most salient features in subsequent steps, we can\n",
        "drastically speed up the computation while retaining accuracy.\n",
        "\n"
      ]
    },
    {
      "cell_type": "code",
      "execution_count": null,
      "metadata": {
        "collapsed": false
      },
      "outputs": [],
      "source": [
        "# Train a random forest classifier and assess its performance\n",
        "clf = RandomForestClassifier(n_estimators=1000, max_depth=None,\n",
        "                             max_features=100, n_jobs=-1, random_state=0)\n",
        "t_start = time()\n",
        "clf.fit(X_train, y_train)\n",
        "time_full_train = time() - t_start\n",
        "auc_full_features = roc_auc_score(y_test, clf.predict_proba(X_test)[:, 1])\n",
        "\n",
        "# Sort features in order of importance and plot the six most significant\n",
        "idx_sorted = np.argsort(clf.feature_importances_)[::-1]\n",
        "\n",
        "fig, axes = plt.subplots(3, 2)\n",
        "for idx, ax in enumerate(axes.ravel()):\n",
        "    image = images[0]\n",
        "    image = draw_haar_like_feature(image, 0, 0,\n",
        "                                   images.shape[2],\n",
        "                                   images.shape[1],\n",
        "                                   [feature_coord[idx_sorted[idx]]])\n",
        "    ax.imshow(image)\n",
        "    ax.set_xticks([])\n",
        "    ax.set_yticks([])\n",
        "\n",
        "_ = fig.suptitle('The most important features')"
      ]
    },
    {
      "cell_type": "markdown",
      "metadata": {},
      "source": [
        "We can select the most important features by checking the cumulative sum\n",
        "of the feature importance. In this example, we keep the features\n",
        "representing 70% of the cumulative value (which corresponds to using only 3%\n",
        "of the total number of features).\n",
        "\n"
      ]
    },
    {
      "cell_type": "code",
      "execution_count": null,
      "metadata": {
        "collapsed": false
      },
      "outputs": [],
      "source": [
        "cdf_feature_importances = np.cumsum(clf.feature_importances_[idx_sorted])\n",
        "cdf_feature_importances /= cdf_feature_importances[-1]  # divide by max value\n",
        "sig_feature_count = np.count_nonzero(cdf_feature_importances < 0.7)\n",
        "sig_feature_percent = round(sig_feature_count /\n",
        "                            len(cdf_feature_importances) * 100, 1)\n",
        "print((f'{sig_feature_count} features, or {sig_feature_percent}%, '\n",
        "       f'account for 70% of branch points in the random forest.'))\n",
        "\n",
        "# Select the determined number of most informative features\n",
        "feature_coord_sel = feature_coord[idx_sorted[:sig_feature_count]]\n",
        "feature_type_sel = feature_type[idx_sorted[:sig_feature_count]]\n",
        "# Note: it is also possible to select the features directly from the matrix X,\n",
        "# but we would like to emphasize the usage of `feature_coord` and `feature_type`\n",
        "# to recompute a subset of desired features.\n",
        "\n",
        "# Build the computational graph using Dask\n",
        "X = delayed(extract_feature_image(img, feature_type_sel, feature_coord_sel)\n",
        "            for img in images)\n",
        "# Compute the result\n",
        "t_start = time()\n",
        "X = np.array(X.compute(scheduler='single-threaded'))\n",
        "time_subs_feature_comp = time() - t_start\n",
        "\n",
        "y = np.array([1] * 100 + [0] * 100)\n",
        "X_train, X_test, y_train, y_test = train_test_split(X, y, train_size=150,\n",
        "                                                    random_state=0,\n",
        "                                                    stratify=y)"
      ]
    },
    {
      "cell_type": "markdown",
      "metadata": {},
      "source": [
        "Once the features are extracted, we can train and test a new classifier.\n",
        "\n"
      ]
    },
    {
      "cell_type": "code",
      "execution_count": null,
      "metadata": {
        "collapsed": false
      },
      "outputs": [],
      "source": [
        "t_start = time()\n",
        "clf.fit(X_train, y_train)\n",
        "time_subs_train = time() - t_start\n",
        "\n",
        "auc_subs_features = roc_auc_score(y_test, clf.predict_proba(X_test)[:, 1])\n",
        "\n",
        "summary = ((f'Computing the full feature set took '\n",
        "            f'{time_full_feature_comp:.3f}s, '\n",
        "            f'plus {time_full_train:.3f}s training, '\n",
        "            f'for an AUC of {auc_full_features:.2f}. '\n",
        "            f'Computing the restricted feature set took '\n",
        "            f'{time_subs_feature_comp:.3f}s, plus {time_subs_train:.3f}s '\n",
        "            f'training, for an AUC of {auc_subs_features:.2f}.'))\n",
        "\n",
        "print(summary)\n",
        "plt.show()"
      ]
    }
  ],
  "metadata": {
    "kernelspec": {
      "display_name": "Python 3",
      "language": "python",
      "name": "python3"
    },
    "language_info": {
      "codemirror_mode": {
        "name": "ipython",
        "version": 3
      },
      "file_extension": ".py",
      "mimetype": "text/x-python",
      "name": "python",
      "nbconvert_exporter": "python",
      "pygments_lexer": "ipython3",
      "version": "3.9.13 (tags/v3.9.13:6de2ca5, May 17 2022, 16:36:42) [MSC v.1929 64 bit (AMD64)]"
    },
    "vscode": {
      "interpreter": {
        "hash": "bf92a130661662e0cce77e1268518b0043b67ae8bbcb2e51e2cd799c9250d654"
      }
    }
  },
  "nbformat": 4,
  "nbformat_minor": 0
}
